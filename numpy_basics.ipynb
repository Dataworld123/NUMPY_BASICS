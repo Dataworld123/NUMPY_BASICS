{
 "cells": [
  {
   "cell_type": "code",
   "execution_count": null,
   "id": "cf7a9bed-5db2-4a29-94af-8dbf898ef4ab",
   "metadata": {},
   "outputs": [],
   "source": [
    "Consider the below code to answer further questions:\n",
    "import numpy as np\n",
    "list_ = [ ‘1’ , ’2’ , ‘3’ , ‘4’ , ‘5’ ]\n",
    "array_list = np.array(object = list_)\n",
    "Q1. Is there any difference in the data type of variables list_ and array_list? If there is then write a code\n",
    "to print the data types of both the variables."
   ]
  },
  {
   "cell_type": "code",
   "execution_count": null,
   "id": "a2587487-9724-4a02-9ef3-d776238714cb",
   "metadata": {},
   "outputs": [],
   "source": [
    "ANS-Yes, there is a difference in the data type of the variables list_ and array_list.\n",
    "\n",
    "To print the data types of both variables, you can use the type() function in Python. Here's the code to do that:\n",
    "\n",
    "python\n",
    "Copy code\n",
    "import numpy as np\n",
    "\n",
    "list_ = ['1', '2', '3', '4', '5']\n",
    "array_list = np.array(object=list_)\n",
    "\n",
    "print(\"Data type of list_:\", type(list_))\n",
    "print(\"Data type of array_list:\", type(array_list))\n",
    "When you run this code, it will output something like:\n",
    "\n",
    "OUTPUT\n",
    "Data type of list_: <class 'list'>\n",
    "Data type of array_list: <class 'numpy.ndarray'>"
   ]
  },
  {
   "cell_type": "code",
   "execution_count": null,
   "id": "0325ddd9-bdb3-42bb-83fb-4795e1bec78d",
   "metadata": {},
   "outputs": [],
   "source": [
    "Q2. Write a code to print the data type of each and every element of both the variables list_ and\n",
    "arra_list."
   ]
  },
  {
   "cell_type": "markdown",
   "id": "f834761d-63d3-416c-9b20-8780ead16798",
   "metadata": {},
   "source": [
    "ANS-To print the data type of each element in both list_ and array_list, you can use a loop to iterate through each element and then use the type() function to determine the data type. Here's the code:"
   ]
  },
  {
   "cell_type": "code",
   "execution_count": null,
   "id": "08bfc05f-a0b7-47b5-980f-21b9f3061176",
   "metadata": {},
   "outputs": [],
   "source": [
    "import numpy as np\n",
    "\n",
    "list_ = ['1', '2', '3', '4', '5']\n",
    "array_list = np.array(object=list_)\n",
    "\n",
    "# Data type of each element in list_\n",
    "print(\"Data type of each element in list_:\")\n",
    "for item in list_:\n",
    "    print(type(item))\n",
    "\n",
    "# Data type of each element in array_list\n",
    "print(\"\\nData type of each element in array_list:\")\n",
    "for item in array_list:\n",
    "    print(type(item))\n"
   ]
  },
  {
   "cell_type": "code",
   "execution_count": null,
   "id": "db590bf7-6f52-49c1-853b-b0ed8640b1c3",
   "metadata": {},
   "outputs": [],
   "source": [
    "OUTPUT\n",
    "\n",
    "Data type of each element in list_:\n",
    "<class 'str'>\n",
    "<class 'str'>\n",
    "<class 'str'>\n",
    "<class 'str'>\n",
    "<class 'str'>\n",
    "\n",
    "Data type of each element in array_list:\n",
    "<class 'numpy.str_'>\n",
    "<class 'numpy.str_'>\n",
    "<class 'numpy.str_'>\n",
    "<class 'numpy.str_'>\n",
    "<class 'numpy.str_'>\n"
   ]
  },
  {
   "cell_type": "code",
   "execution_count": null,
   "id": "61360242-0c76-4b15-a61f-24743ad314c4",
   "metadata": {},
   "outputs": [],
   "source": [
    "Q3. Considering the following changes in the variable, array_list:\n",
    "array_list = np.array(object = list_, dtype = int)\n",
    "Will there be any difference in the data type of the elements present in both the variables, list_ and\n",
    "arra_list? If so then print the data types of each and every element present in both the variables, list_\n",
    "and arra_list."
   ]
  },
  {
   "cell_type": "markdown",
   "id": "905df14a-f355-4d0d-ad04-b1549f2b0fe2",
   "metadata": {},
   "source": [
    "ANS-Yes, there will be a difference in the data type of the elements present in list_ and array_list. When you create array_list with the dtype=int, the elements will be explicitly converted to integers.\n",
    "\n",
    "Let's see the updated code and print the data types of each element in both list_ and array_list:"
   ]
  },
  {
   "cell_type": "code",
   "execution_count": null,
   "id": "6c0c4ef7-23de-4fed-a4ee-05e1b3bd34d3",
   "metadata": {},
   "outputs": [],
   "source": [
    "import numpy as np\n",
    "\n",
    "list_ = ['1', '2', '3', '4', '5']\n",
    "array_list = np.array(object=list_, dtype=int)\n",
    "\n",
    "# Data type of each element in list_\n",
    "print(\"Data type of each element in list_:\")\n",
    "for item in list_:\n",
    "    print(type(item))\n",
    "\n",
    "# Data type of each element in array_list\n",
    "print(\"\\nData type of each element in array_list:\")\n",
    "for item in array_list:\n",
    "    print(type(item))\n"
   ]
  },
  {
   "cell_type": "code",
   "execution_count": null,
   "id": "453225d1-be24-4821-ad8a-7245540e7a91",
   "metadata": {},
   "outputs": [],
   "source": [
    "OUTPUT\n",
    "\n",
    "Data type of each element in list_:\n",
    "<class 'str'>\n",
    "<class 'str'>\n",
    "<class 'str'>\n",
    "<class 'str'>\n",
    "<class 'str'>\n",
    "\n",
    "Data type of each element in array_list:\n",
    "<class 'numpy.int64'>\n",
    "<class 'numpy.int64'>\n",
    "<class 'numpy.int64'>\n",
    "<class 'numpy.int64'>\n",
    "<class 'numpy.int64'>\n"
   ]
  },
  {
   "cell_type": "code",
   "execution_count": null,
   "id": "45b8c06b-98d3-4a07-9475-a64d5bc5b302",
   "metadata": {},
   "outputs": [],
   "source": [
    "Consider the below code to answer further questions:\n",
    "import numpy as np\n",
    "num_list = [ [ 1 , 2 , 3 ] , [ 4 , 5 , 6 ] ]\n",
    "num_array = np.array(object = num_list)\n",
    "\n",
    "\n",
    "Q4. Write a code to find the following characteristics of variable, num_array:\n",
    "(i) shape\n",
    "(ii) size"
   ]
  },
  {
   "cell_type": "code",
   "execution_count": null,
   "id": "52bb7979-a607-431c-b046-4deec03bb843",
   "metadata": {},
   "outputs": [],
   "source": [
    "ANS- import numpy as np\n",
    "\n",
    "num_list = [[1, 2, 3], [4, 5, 6]]\n",
    "num_array = np.array(object=num_list)\n",
    "\n",
    "# (i) Shape of num_array\n",
    "shape = num_array.shape\n",
    "print(\"(i) Shape of num_array:\", shape)\n",
    "\n",
    "# (ii) Size of num_array\n",
    "size = num_array.size\n",
    "print(\"(ii) Size of num_array:\", size)\n"
   ]
  },
  {
   "cell_type": "code",
   "execution_count": null,
   "id": "827e8f01-c87d-485c-adda-d56e827185a9",
   "metadata": {},
   "outputs": [],
   "source": [
    "OUTPUT\n",
    "\n",
    "(i) Shape of num_array: (2, 3)\n",
    "(ii) Size of num_array: 6\n"
   ]
  },
  {
   "cell_type": "code",
   "execution_count": null,
   "id": "b507c87f-6040-4113-903c-551888a29412",
   "metadata": {},
   "outputs": [],
   "source": [
    "Q5. Write a code to create numpy array of 3*3 matrix containing zeros only, using a numpy array\n",
    "creation function.\n",
    "[Hint: The size of the array will be 9 and the shape will be (3,3).]"
   ]
  },
  {
   "cell_type": "markdown",
   "id": "4890e8f0-e266-4b83-91e5-b21fa784d1e4",
   "metadata": {},
   "source": [
    "ANS-You can create a 3x3 NumPy array filled with zeros using the np.zeros() function. Here's the code to do that:"
   ]
  },
  {
   "cell_type": "code",
   "execution_count": null,
   "id": "b52e4641-8347-44b5-937a-ac4aa810fd68",
   "metadata": {},
   "outputs": [],
   "source": [
    "import numpy as np\n",
    "\n",
    "# Creating a 3x3 matrix of zeros\n",
    "zero_matrix = np.zeros((3, 3))\n",
    "\n",
    "print(zero_matrix)\n"
   ]
  },
  {
   "cell_type": "code",
   "execution_count": null,
   "id": "78c27a40-fd6a-48ea-94cc-75bdc0e3ce3c",
   "metadata": {},
   "outputs": [],
   "source": [
    "OUTPUT\n",
    "\n",
    "[[0. 0. 0.]\n",
    " [0. 0. 0.]\n",
    " [0. 0. 0.]]\n"
   ]
  },
  {
   "cell_type": "code",
   "execution_count": null,
   "id": "5443c37c-cdf7-4b5f-a0f8-60435f175db7",
   "metadata": {},
   "outputs": [],
   "source": [
    "Q6. Create an identity matrix of shape (5,5) using numpy functions?\n",
    "[Hint: An identity matrix is a matrix containing 1 diagonally and other elements will be 0.]"
   ]
  },
  {
   "cell_type": "markdown",
   "id": "c48afd6c-7f2d-45ee-9c9c-ca3250c10bc7",
   "metadata": {},
   "source": [
    "ANS-You can create an identity matrix of shape (5, 5) using the np.identity() function from NumPy. Here's the code to do that:"
   ]
  },
  {
   "cell_type": "code",
   "execution_count": null,
   "id": "25c0b42a-f950-4278-aea8-19cac60f5c9c",
   "metadata": {},
   "outputs": [],
   "source": [
    "import numpy as np\n",
    "\n",
    "# Creating a 5x5 identity matrix\n",
    "identity_matrix = np.identity(5)\n",
    "\n",
    "print(identity_matrix)\n"
   ]
  },
  {
   "cell_type": "code",
   "execution_count": null,
   "id": "086324fa-07d7-4ba6-b047-408b3ae7fa8a",
   "metadata": {},
   "outputs": [],
   "source": [
    "OUTPUT\n",
    "\n",
    "(i) Shape of num_array: (2, 3)\n",
    "(ii) Size of num_array: 6\n"
   ]
  }
 ],
 "metadata": {
  "kernelspec": {
   "display_name": "Python 3 (ipykernel)",
   "language": "python",
   "name": "python3"
  },
  "language_info": {
   "codemirror_mode": {
    "name": "ipython",
    "version": 3
   },
   "file_extension": ".py",
   "mimetype": "text/x-python",
   "name": "python",
   "nbconvert_exporter": "python",
   "pygments_lexer": "ipython3",
   "version": "3.10.8"
  }
 },
 "nbformat": 4,
 "nbformat_minor": 5
}
